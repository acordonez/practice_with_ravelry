{
 "cells": [
  {
   "cell_type": "code",
   "execution_count": 78,
   "metadata": {},
   "outputs": [],
   "source": [
    "import requests\n",
    "from requests.auth import HTTPBasicAuth\n",
    "import csv\n",
    "import numpy as np\n",
    "from datetime import datetime, date, timedelta\n",
    "import matplotlib.pyplot as plt"
   ]
  },
  {
   "cell_type": "code",
   "execution_count": 3,
   "metadata": {},
   "outputs": [],
   "source": [
    "# get credentials\n",
    "with open('ravelry_auth.csv') as f:\n",
    "    reader = csv.reader(f)\n",
    "    rav_auth = list(reader)"
   ]
  },
  {
   "cell_type": "code",
   "execution_count": 4,
   "metadata": {},
   "outputs": [],
   "source": [
    "# Get pattern id's for specific query\n",
    "URL = \"https://api.ravelry.com/patterns/search.json\"\n",
    "PARAMS = {'query':'cardigan', 'page': 1, 'weight': 'worsted'}\n",
    "\n",
    "r1 = requests.get(url = URL, params = PARAMS, auth=HTTPBasicAuth(rav_auth[0][0], rav_auth[0][1])) "
   ]
  },
  {
   "cell_type": "code",
   "execution_count": 5,
   "metadata": {
    "scrolled": false
   },
   "outputs": [],
   "source": [
    "# convert ID format for next query\n",
    "r1_json = r1.json()\n",
    "id_list = ''\n",
    "for key in range(len(r1_json['patterns'])):\n",
    "    id_list += (str(r1_json['patterns'][key]['id']) + ' ')\n",
    "id_list = id_list[:-1]\n",
    "#print(id_list)"
   ]
  },
  {
   "cell_type": "code",
   "execution_count": 6,
   "metadata": {},
   "outputs": [],
   "source": [
    "# get pattern details\n",
    "URL = \"https://api.ravelry.com/patterns.json\"\n",
    "PARAMS = {'ids':id_list}\n",
    "\n",
    "r2 = requests.get(url = URL, params = PARAMS, auth=HTTPBasicAuth(rav_auth[0][0], rav_auth[0][1]))\n",
    "#print(r2.url)"
   ]
  },
  {
   "cell_type": "code",
   "execution_count": 7,
   "metadata": {},
   "outputs": [],
   "source": [
    "r2_json = r2.json()\n",
    "patterns = r2_json['patterns']"
   ]
  },
  {
   "cell_type": "code",
   "execution_count": null,
   "metadata": {},
   "outputs": [],
   "source": [
    "\"\"\"Let's try making a plot with some of this data.\n",
    "I have a theory that patterns that have been around longer\n",
    "will have more favorites (Favorites = \"likes\"). \n",
    "Is that true?\"\"\""
   ]
  },
  {
   "cell_type": "code",
   "execution_count": 8,
   "metadata": {},
   "outputs": [],
   "source": [
    "# Make dictionary of cases with valid publication dates\n",
    "plot_data = {}\n",
    "for key in patterns:\n",
    "    pubdate = patterns[key]['published']\n",
    "    if pubdate is not None:\n",
    "        plot_data[datetime.strptime(pubdate, '%Y/%m/%d').date()] = patterns[key]['favorites_count']\n",
    "#print(plot_data)"
   ]
  },
  {
   "cell_type": "code",
   "execution_count": 11,
   "metadata": {},
   "outputs": [
    {
     "data": {
      "text/plain": [
       "Text(0.5, 1.0, 'Favorites vs pattern age for worsted weight cardigans')"
      ]
     },
     "execution_count": 11,
     "metadata": {},
     "output_type": "execute_result"
    },
    {
     "data": {
      "image/png": "[encoded data removed]",
      "text/plain": [
       "<Figure size 432x288 with 1 Axes>"
      ]
     },
     "metadata": {
      "needs_background": "light"
     },
     "output_type": "display_data"
    }
   ],
   "source": [
    "# Make plot of publication date versus number of favorites\n",
    "x,y = zip(*sorted(plot_data.items()))\n",
    "plt.plot_date(x,y)\n",
    "plt.yscale('log') # log scale because of large outliers\n",
    "plt.xlabel('publication date')\n",
    "plt.ylabel('number of favorites')\n",
    "plt.title('Favorites vs pattern age for worsted weight cardigans')"
   ]
  },
  {
   "cell_type": "code",
   "execution_count": null,
   "metadata": {},
   "outputs": [],
   "source": [
    "\"\"\"Ravelry didn't exist in 1950! Let's limit the plot to when the website existed.\n",
    "Patterns that were published earlier during the Ravelry era have had more time to \n",
    "be seen on the website and gather attention.\"\"\""
   ]
  },
  {
   "cell_type": "code",
   "execution_count": 12,
   "metadata": {},
   "outputs": [
    {
     "data": {
      "text/plain": [
       "Text(0.5, 1.0, 'Favorites vs pattern age for worsted weight cardigans')"
      ]
     },
     "execution_count": 12,
     "metadata": {},
     "output_type": "execute_result"
    },
    {
     "data": {
      "image/png": "[encoded data removed]",
      "text/plain": [
       "<Figure size 432x288 with 1 Axes>"
      ]
     },
     "metadata": {
      "needs_background": "light"
     },
     "output_type": "display_data"
    }
   ],
   "source": [
    "plt.plot_date(x,y)\n",
    "plt.yscale('log') # log scale because of large outliers\n",
    "plt.xlim([date(2007, 5, 1), datetime.now()])\n",
    "plt.xlabel('publication date')\n",
    "plt.ylabel('number of favorites')\n",
    "plt.title('Favorites vs pattern age for worsted weight cardigans')"
   ]
  },
  {
   "cell_type": "code",
   "execution_count": 99,
   "metadata": {},
   "outputs": [
    {
     "data": {
      "text/plain": [
       "\"This plot doesn't show a clear relationship between the age of a pattern and the \\nnumber of favorites. I'll do a linear fit to see if it explains any of the variance.\""
      ]
     },
     "execution_count": 99,
     "metadata": {},
     "output_type": "execute_result"
    }
   ],
   "source": [
    "\"\"\"This plot doesn't show a clear relationship between the age of a pattern and the \n",
    "number of favorites. I'll do a linear fit to see if it explains any of the variance.\"\"\""
   ]
  },
  {
   "cell_type": "code",
   "execution_count": 97,
   "metadata": {},
   "outputs": [
    {
     "name": "stdout",
     "output_type": "stream",
     "text": [
      "R^2 =  4.866673846498209e-09\n"
     ]
    }
   ],
   "source": [
    "X=[(item - date(1900,1,1)).days for item in x]\n",
    "X=tuple(X) # consistent with y\n",
    "\n",
    "# fit exponetial line\n",
    "p = np.polyfit(X, np.log(y), 1)\n",
    "print('R^2 = ',str(p[0]**2))\n",
    "\n",
    "# generate line to plot with data\n",
    "date_list = [date(2007,5,1) + timedelta(days=d) for d in range(20*365)]\n",
    "days_list = [(my_date - date(1900,1,1)).days for my_date in date_list]\n",
    "my_fit = np.exp([num * p[0] for num in days_list] + p[1])"
   ]
  },
  {
   "cell_type": "code",
   "execution_count": null,
   "metadata": {},
   "outputs": [],
   "source": [
    "\"\"\"With such a low R^2 value, this fit doesn't explain any of the \n",
    "variability in the post 2007 data - supporting what we saw in the plots above.\n",
    "Next we'll add this fit to the graph to help visualize that. \"\"\""
   ]
  },
  {
   "cell_type": "code",
   "execution_count": 96,
   "metadata": {},
   "outputs": [
    {
     "data": {
      "text/plain": [
       "[<matplotlib.lines.Line2D at 0x2060477e808>]"
      ]
     },
     "execution_count": 96,
     "metadata": {},
     "output_type": "execute_result"
    },
    {
     "data": {
      "image/png": "[encoded data removed]",
      "text/plain": [
       "<Figure size 432x288 with 1 Axes>"
      ]
     },
     "metadata": {
      "needs_background": "light"
     },
     "output_type": "display_data"
    }
   ],
   "source": [
    "plt.plot_date(x,y)\n",
    "plt.yscale('log') # log scale because of large outliers\n",
    "plt.xlim([date(2007, 5, 1), datetime.now()])\n",
    "plt.xlabel('publication date')\n",
    "plt.ylabel('number of favorites')\n",
    "plt.title('Favorites vs pattern age for worsted weight cardigans')\n",
    "plt.plot(date_list, my_fit , linewidth = 2, linestyle = 'dashed')"
   ]
  },
  {
   "cell_type": "code",
   "execution_count": null,
   "metadata": {},
   "outputs": [],
   "source": [
    "\"\"\"Based on this analysis, it doesn't seem like the age of a pattern \n",
    "has anything to do with the number of favorites it has for patterns \n",
    "that were published during the Ravelry era\"\"\""
   ]
  }
 ],
 "metadata": {
  "kernelspec": {
   "display_name": "Python 3",
   "language": "python",
   "name": "python3"
  },
  "language_info": {
   "codemirror_mode": {
    "name": "ipython",
    "version": 3
   },
   "file_extension": ".py",
   "mimetype": "text/x-python",
   "name": "python",
   "nbconvert_exporter": "python",
   "pygments_lexer": "ipython3",
   "version": "3.7.7"
  }
 },
 "nbformat": 4,
 "nbformat_minor": 4
}
